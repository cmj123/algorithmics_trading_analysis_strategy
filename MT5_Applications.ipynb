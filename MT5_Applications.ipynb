{
 "cells": [
  {
   "cell_type": "markdown",
   "id": "6ba36ec9",
   "metadata": {},
   "source": [
    "# MT5 Application"
   ]
  },
  {
   "cell_type": "markdown",
   "id": "e9d12545",
   "metadata": {},
   "source": [
    "### Import libraries, classes and functions"
   ]
  },
  {
   "cell_type": "code",
   "execution_count": 1,
   "id": "6146b75b",
   "metadata": {},
   "outputs": [],
   "source": [
    "from MT5 import *\n",
    "import warnings\n",
    "warnings.filterwarnings(\"ignore\")\n",
    "import time \n",
    "import numpy as np"
   ]
  },
  {
   "cell_type": "code",
   "execution_count": 2,
   "id": "85459b16",
   "metadata": {},
   "outputs": [],
   "source": [
    "def random():\n",
    "    values = [True, False]\n",
    "    buy = np.random.choice(values)\n",
    "    sell = not buy\n",
    "    return buy,sell"
   ]
  },
  {
   "cell_type": "code",
   "execution_count": 3,
   "id": "45de6688",
   "metadata": {},
   "outputs": [],
   "source": [
    "symbol_list = {\n",
    "    \"Nasdaq 100\":[\"NAS100\",0.1],\n",
    "    \"Russel 2000\": [\"US2000\", 0.1]\n",
    "}"
   ]
  },
  {
   "cell_type": "code",
   "execution_count": 4,
   "id": "b01342b2",
   "metadata": {},
   "outputs": [
    {
     "name": "stdout",
     "output_type": "stream",
     "text": [
      "------------------------------------------------------------------\n",
      "Date: 2021-11-26 16:23:57\n",
      "Balance: 100000.0 GBP, \tEquity: 100000.0 GBP, \tProfit: 0.0 GBP\n",
      "------------------------------------------------------------------\n"
     ]
    }
   ],
   "source": [
    "current_account_info = mt5.account_info()\n",
    "print(\"------------------------------------------------------------------\")\n",
    "print(f\"Date: {datetime.now().strftime('%Y-%m-%d %H:%M:%S')}\")\n",
    "print(f\"Balance: {current_account_info.balance} GBP, \\t\"\n",
    "     f\"Equity: {current_account_info.equity} GBP, \\t\"\n",
    "      f\"Profit: {current_account_info.profit} GBP\"\n",
    "     )\n",
    "print(\"------------------------------------------------------------------\")"
   ]
  },
  {
   "cell_type": "code",
   "execution_count": 5,
   "id": "97c7e1b4",
   "metadata": {},
   "outputs": [
    {
     "data": {
      "text/plain": [
       "AccountInfo(login=61031903, trade_mode=0, leverage=500, limit_orders=500, margin_so_mode=0, trade_allowed=True, trade_expert=True, margin_mode=2, currency_digits=2, fifo_close=False, balance=100000.0, credit=0.0, profit=0.0, equity=100000.0, margin=0.0, margin_free=100000.0, margin_level=0.0, margin_so_call=90.0, margin_so_so=20.0, margin_initial=0.0, margin_maintenance=0.0, assets=0.0, liabilities=0.0, commission_blocked=0.0, name='Esuabom Dijemeni', server='Pepperstone-Demo', currency='USD', company='Pepperstone Group Limited')"
      ]
     },
     "execution_count": 5,
     "metadata": {},
     "output_type": "execute_result"
    }
   ],
   "source": [
    "current_account_info"
   ]
  },
  {
   "cell_type": "code",
   "execution_count": 7,
   "id": "9fb05eb6",
   "metadata": {},
   "outputs": [
    {
     "data": {
      "text/plain": [
       "\" \\nAccountInfo(login=6105544, trade_mode=0, leverage=100, limit_orders=0, margin_so_mode=0, trade_allowed=True, trade_expert=True, margin_mode=2, currency_digits=2, fifo_close=False, balance=100000.0, credit=0.0, profit=0.0, equity=100000.0, margin=0.0, margin_free=100000.0, margin_level=0.0, margin_so_call=80.0, margin_so_so=50.0, margin_initial=0.0, margin_maintenance=0.0, assets=0.0, liabilities=0.0, commission_blocked=0.0, name='Esuabom Dijemeni', server='GOMarketsMU-Demo', currency='GBP', company='GO Markets Pty Ltd (Mauritius)')\\n\""
      ]
     },
     "execution_count": 7,
     "metadata": {},
     "output_type": "execute_result"
    }
   ],
   "source": [
    "\"\"\" \n",
    "AccountInfo(login=6105544, trade_mode=0, leverage=100, limit_orders=0, margin_so_mode=0, trade_allowed=True, trade_expert=True, margin_mode=2, currency_digits=2, fifo_close=False, balance=100000.0, credit=0.0, profit=0.0, equity=100000.0, margin=0.0, margin_free=100000.0, margin_level=0.0, margin_so_call=80.0, margin_so_so=50.0, margin_initial=0.0, margin_maintenance=0.0, assets=0.0, liabilities=0.0, commission_blocked=0.0, name='Esuabom Dijemeni', server='GOMarketsMU-Demo', currency='GBP', company='GO Markets Pty Ltd (Mauritius)')\n",
    "\"\"\""
   ]
  },
  {
   "cell_type": "code",
   "execution_count": null,
   "id": "161e495f",
   "metadata": {},
   "outputs": [],
   "source": []
  }
 ],
 "metadata": {
  "kernelspec": {
   "display_name": "Python 3 (ipykernel)",
   "language": "python",
   "name": "python3"
  },
  "language_info": {
   "codemirror_mode": {
    "name": "ipython",
    "version": 3
   },
   "file_extension": ".py",
   "mimetype": "text/x-python",
   "name": "python",
   "nbconvert_exporter": "python",
   "pygments_lexer": "ipython3",
   "version": "3.10.0"
  }
 },
 "nbformat": 4,
 "nbformat_minor": 5
}
